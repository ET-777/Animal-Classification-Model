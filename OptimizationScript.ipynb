{
 "cells": [
  {
   "cell_type": "code",
   "execution_count": null,
   "id": "001ed4e9",
   "metadata": {},
   "outputs": [],
   "source": [
    "dense_layers = [0, 1]\n",
    "layer_sizes = [128]\n",
    "conv_layers = [3]\n",
    "\n",
    "#lambdas = [0.0, 0.001, 0.01, 0.05, 0.1, 0.2, 0.3]\n",
    "#models=[None] * len(lambdas)\n",
    "#for i in range(len(lambdas)):\n",
    "#    lambda_ = lambdas[i]\n",
    "#    models[i] =  Sequential(\n",
    "\n",
    "for dense_layer in dense_layers:\n",
    "    for layer_size in layer_sizes:\n",
    "        for conv_layer in conv_layers:\n",
    "            Name = \"ACM-{}-conv-{}-nodes-{}-drop512\".format(conv_layer, layer_size, dense_layer)\n",
    "            tensorboard = TensorBoard(log_dir='logs/{}'.format(Name))\n",
    "\n",
    "            model = Sequential()\n",
    "                   \n",
    "            model.add(Conv2D(layer_size, (3,3), activation=\"relu\", input_shape=X_train.shape[1:]))\n",
    "            model.add(MaxPooling2D(pool_size=(2,2)))\n",
    "                    \n",
    "            for l in range(conv_layer-1):\n",
    "                model.add(Conv2D(layer_size, (3,3), activation=\"relu\"))\n",
    "                model.add(MaxPooling2D(pool_size=(2,2)))\n",
    "\n",
    "            model.add(Flatten())\n",
    "                    \n",
    "            for l in range(dense_layer):\n",
    "                model.add(Dense(512, activation=\"relu\"))\n",
    "                model.add(Dropout(0.2))\n",
    "\n",
    "            model.add(Dense(10, activation='linear'))\n",
    "                 \n",
    "                      \n",
    "            model.compile(\n",
    "                loss=tf.keras.losses.SparseCategoricalCrossentropy(from_logits=True),\n",
    "                optimizer=tf.keras.optimizers.Adam(),#learning_rate=0.001),\n",
    "                metrics=['accuracy']\n",
    "            )\n",
    "\n",
    "            model.fit(\n",
    "                X_train,Y_train,\n",
    "                batch_size = 32,\n",
    "                validation_split = 0.3,\n",
    "                epochs = 15,\n",
    "                callbacks = [tensorboard]\n",
    "                \n",
    "            )"
   ]
  }
 ],
 "metadata": {
  "kernelspec": {
   "display_name": "Python 3.9 (tensorflow)",
   "language": "python",
   "name": "tensorflow"
  },
  "language_info": {
   "codemirror_mode": {
    "name": "ipython",
    "version": 3
   },
   "file_extension": ".py",
   "mimetype": "text/x-python",
   "name": "python",
   "nbconvert_exporter": "python",
   "pygments_lexer": "ipython3",
   "version": "3.9.12"
  }
 },
 "nbformat": 4,
 "nbformat_minor": 5
}
